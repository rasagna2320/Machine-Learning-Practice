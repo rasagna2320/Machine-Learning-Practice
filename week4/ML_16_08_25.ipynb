{
  "nbformat": 4,
  "nbformat_minor": 0,
  "metadata": {
    "colab": {
      "provenance": [],
      "gpuType": "T4"
    },
    "kernelspec": {
      "name": "python3",
      "display_name": "Python 3"
    },
    "language_info": {
      "name": "python"
    },
    "accelerator": "GPU"
  },
  "cells": [
    {
      "cell_type": "markdown",
      "source": [
        "#Feature Selection - Wrapper methods"
      ],
      "metadata": {
        "id": "gt1brfwYDa-x"
      }
    },
    {
      "cell_type": "code",
      "source": [
        "import pandas as pd\n",
        "\n",
        "# Load the filtered datasets\n",
        "train_filtered = pd.read_csv(\"filtered_titanic_train.csv\")\n",
        "test_filtered = pd.read_csv(\"filtered_titanic_test.csv\")\n",
        "\n",
        "# Separate features and target\n",
        "X_train = train_filtered.drop(columns=[\"target\"])\n",
        "y_train = train_filtered[\"target\"]\n",
        "\n",
        "X_test = test_filtered.drop(columns=[\"target\"])\n",
        "y_test = test_filtered[\"target\"]\n"
      ],
      "metadata": {
        "id": "jtJ-4bwcukmp"
      },
      "execution_count": 4,
      "outputs": []
    },
    {
      "cell_type": "code",
      "source": [
        "#Wrapper methods\n",
        "#Forward Elimination\n",
        "from sklearn.ensemble import RandomForestClassifier\n",
        "from sklearn.metrics import roc_auc_score\n",
        "from mlxtend.feature_selection import SequentialFeatureSelector as SFS\n",
        "sfs1=SFS(RandomForestClassifier(n_jobs=4),\n",
        "         k_features=5,\n",
        "         floating = True,\n",
        "         forward = True,\n",
        "         scoring = 'roc_auc' or 'accuracy',\n",
        "         verbose=2,\n",
        "         cv=3)\n",
        "sfs1=sfs1.fit(X_train,y_train)"
      ],
      "metadata": {
        "colab": {
          "base_uri": "https://localhost:8080/"
        },
        "id": "sxkvCdBEDaot",
        "outputId": "a62ed399-d3a8-4c11-88e8-c54e9e3db104"
      },
      "execution_count": 5,
      "outputs": [
        {
          "output_type": "stream",
          "name": "stderr",
          "text": [
            "[Parallel(n_jobs=1)]: Done  20 out of  20 | elapsed:   14.5s finished\n",
            "\n",
            "[2025-08-20 07:54:38] Features: 1/5 -- score: 0.7837948312236286[Parallel(n_jobs=1)]: Done  19 out of  19 | elapsed:   14.0s finished\n",
            "\n",
            "[2025-08-20 07:54:52] Features: 2/5 -- score: 0.8385696861814346[Parallel(n_jobs=1)]: Done  18 out of  18 | elapsed:   13.4s finished\n",
            "[Parallel(n_jobs=1)]: Done   2 out of   2 | elapsed:    1.7s finished\n",
            "\n",
            "[2025-08-20 07:55:07] Features: 3/5 -- score: 0.8581001120780591[Parallel(n_jobs=1)]: Done  17 out of  17 | elapsed:   13.2s finished\n",
            "[Parallel(n_jobs=1)]: Done   3 out of   3 | elapsed:    2.4s finished\n",
            "\n",
            "[2025-08-20 07:55:23] Features: 4/5 -- score: 0.8654261850606542[Parallel(n_jobs=1)]: Done  16 out of  16 | elapsed:   16.0s finished\n",
            "[Parallel(n_jobs=1)]: Done   4 out of   4 | elapsed:    3.9s finished\n",
            "\n",
            "[2025-08-20 07:55:43] Features: 5/5 -- score: 0.8748121044303797"
          ]
        }
      ]
    },
    {
      "cell_type": "code",
      "source": [
        "#Results\n",
        "print(\"Best accuracy score:\",sfs1.k_score_)\n",
        "print('Best subset (indices):', sfs1.k_feature_idx_)\n",
        "print('Best subset (corresponding names):', sfs1.k_feature_names_)"
      ],
      "metadata": {
        "id": "B5CdRXQpDvqb",
        "colab": {
          "base_uri": "https://localhost:8080/"
        },
        "outputId": "1f73334e-d65a-4ae4-b5f7-4a06be68d30f"
      },
      "execution_count": 6,
      "outputs": [
        {
          "output_type": "stream",
          "name": "stdout",
          "text": [
            "Best accuracy score: 0.8748121044303797\n",
            "Best subset (indices): (3, 4, 9, 10, 14)\n",
            "Best subset (corresponding names): ('3', '4', '9', '10', '14')\n"
          ]
        }
      ]
    },
    {
      "cell_type": "code",
      "source": [
        "#Backward elimination\n",
        "sfs2=SFS(RandomForestClassifier(n_jobs=4),\n",
        "         k_features=5,\n",
        "         floating = True,\n",
        "         forward = False,\n",
        "         scoring = 'roc_auc' or 'accuracy',\n",
        "         verbose=2,\n",
        "         cv=3)\n",
        "sfs2=sfs2.fit(X_train,y_train)"
      ],
      "metadata": {
        "id": "cB4F5UzUDyoy",
        "colab": {
          "base_uri": "https://localhost:8080/"
        },
        "outputId": "ad3a7da9-af76-4c8a-9385-8915515ace1d"
      },
      "execution_count": 7,
      "outputs": [
        {
          "output_type": "stream",
          "name": "stderr",
          "text": [
            "[Parallel(n_jobs=1)]: Done  20 out of  20 | elapsed:   16.1s finished\n",
            "\n",
            "[2025-08-20 07:56:40] Features: 19/5 -- score: 0.8513016712816457[Parallel(n_jobs=1)]: Done  19 out of  19 | elapsed:   15.2s finished\n",
            "\n",
            "[2025-08-20 07:56:55] Features: 18/5 -- score: 0.85616985594673[Parallel(n_jobs=1)]: Done  18 out of  18 | elapsed:   14.4s finished\n",
            "[Parallel(n_jobs=1)]: Done   2 out of   2 | elapsed:    2.0s finished\n",
            "\n",
            "[2025-08-20 07:57:12] Features: 17/5 -- score: 0.8569191719409283[Parallel(n_jobs=1)]: Done  17 out of  17 | elapsed:   13.6s finished\n",
            "[Parallel(n_jobs=1)]: Done   3 out of   3 | elapsed:    2.5s finished\n",
            "\n",
            "[2025-08-20 07:57:28] Features: 16/5 -- score: 0.8561465750263713[Parallel(n_jobs=1)]: Done  16 out of  16 | elapsed:   15.1s finished\n",
            "[Parallel(n_jobs=1)]: Done   4 out of   4 | elapsed:    3.1s finished\n",
            "\n",
            "[2025-08-20 07:57:46] Features: 15/5 -- score: 0.8567683610232067[Parallel(n_jobs=1)]: Done  15 out of  15 | elapsed:   16.1s finished\n",
            "[Parallel(n_jobs=1)]: Done   5 out of   5 | elapsed:    4.4s finished\n",
            "\n",
            "[2025-08-20 07:58:07] Features: 14/5 -- score: 0.8546409381592827[Parallel(n_jobs=1)]: Done  14 out of  14 | elapsed:   11.1s finished\n",
            "[Parallel(n_jobs=1)]: Done   6 out of   6 | elapsed:    4.5s finished\n",
            "\n",
            "[2025-08-20 07:58:22] Features: 13/5 -- score: 0.8581252472310125[Parallel(n_jobs=1)]: Done  13 out of  13 | elapsed:   10.6s finished\n",
            "[Parallel(n_jobs=1)]: Done   7 out of   7 | elapsed:    5.4s finished\n",
            "[Parallel(n_jobs=1)]: Done   6 out of   6 | elapsed:    5.0s finished\n",
            "\n",
            "[2025-08-20 07:58:43] Features: 13/5 -- score: 0.8594829575421942[Parallel(n_jobs=1)]: Done  13 out of  13 | elapsed:   11.6s finished\n",
            "[Parallel(n_jobs=1)]: Done   7 out of   7 | elapsed:    5.6s finished\n",
            "\n",
            "[2025-08-20 07:59:00] Features: 12/5 -- score: 0.859687129153481[Parallel(n_jobs=1)]: Done  12 out of  12 | elapsed:    9.6s finished\n",
            "[Parallel(n_jobs=1)]: Done   8 out of   8 | elapsed:    6.2s finished\n",
            "[Parallel(n_jobs=1)]: Done   7 out of   7 | elapsed:    5.7s finished\n",
            "\n",
            "[2025-08-20 07:59:22] Features: 12/5 -- score: 0.8608105880801687[Parallel(n_jobs=1)]: Done  12 out of  12 | elapsed:    9.7s finished\n",
            "[Parallel(n_jobs=1)]: Done   8 out of   8 | elapsed:    6.1s finished\n",
            "\n",
            "[2025-08-20 07:59:38] Features: 11/5 -- score: 0.8589501747099156[Parallel(n_jobs=1)]: Done  11 out of  11 | elapsed:    9.1s finished\n",
            "[Parallel(n_jobs=1)]: Done   9 out of   9 | elapsed:    6.9s finished\n",
            "[Parallel(n_jobs=1)]: Done   8 out of   8 | elapsed:    6.6s finished\n",
            "\n",
            "[2025-08-20 08:00:00] Features: 11/5 -- score: 0.8631254944620254[Parallel(n_jobs=1)]: Done  11 out of  11 | elapsed:    8.9s finished\n",
            "[Parallel(n_jobs=1)]: Done   9 out of   9 | elapsed:    6.7s finished\n",
            "\n",
            "[2025-08-20 08:00:16] Features: 10/5 -- score: 0.8689611764899788[Parallel(n_jobs=1)]: Done  10 out of  10 | elapsed:    8.1s finished\n",
            "[Parallel(n_jobs=1)]: Done  10 out of  10 | elapsed:    7.8s finished\n",
            "\n",
            "[2025-08-20 08:00:32] Features: 9/5 -- score: 0.8717219227979958[Parallel(n_jobs=1)]: Done   9 out of   9 | elapsed:    7.1s finished\n",
            "[Parallel(n_jobs=1)]: Done  11 out of  11 | elapsed:    9.0s finished\n",
            "[Parallel(n_jobs=1)]: Done  10 out of  10 | elapsed:    7.9s finished\n",
            "\n",
            "[2025-08-20 08:00:56] Features: 9/5 -- score: 0.876555495121308[Parallel(n_jobs=1)]: Done   9 out of   9 | elapsed:    7.2s finished\n",
            "[Parallel(n_jobs=1)]: Done  11 out of  11 | elapsed:    8.7s finished\n",
            "\n",
            "[2025-08-20 08:01:12] Features: 8/5 -- score: 0.872316101331751[Parallel(n_jobs=1)]: Done   8 out of   8 | elapsed:    5.9s finished\n",
            "[Parallel(n_jobs=1)]: Done  12 out of  12 | elapsed:    9.5s finished\n",
            "\n",
            "[2025-08-20 08:01:27] Features: 7/5 -- score: 0.8738697422204641[Parallel(n_jobs=1)]: Done   7 out of   7 | elapsed:    5.2s finished\n",
            "[Parallel(n_jobs=1)]: Done  13 out of  13 | elapsed:   10.2s finished\n",
            "\n",
            "[2025-08-20 08:01:43] Features: 6/5 -- score: 0.8730781909282701[Parallel(n_jobs=1)]: Done   6 out of   6 | elapsed:    4.6s finished\n",
            "[Parallel(n_jobs=1)]: Done  14 out of  14 | elapsed:   10.9s finished\n",
            "\n",
            "[2025-08-20 08:01:58] Features: 5/5 -- score: 0.870111830828059"
          ]
        }
      ]
    },
    {
      "cell_type": "code",
      "source": [
        "#Results\n",
        "print(\"Best accuracy score:\",sfs2.k_score_)\n",
        "print('Best subset (indices):', sfs2.k_feature_idx_)\n",
        "print('Best subset (corresponding names):', sfs2.k_feature_names_)"
      ],
      "metadata": {
        "colab": {
          "base_uri": "https://localhost:8080/"
        },
        "id": "nBm7OZ0VerPq",
        "outputId": "f346d617-7189-4162-e672-948c3e6d8329"
      },
      "execution_count": 8,
      "outputs": [
        {
          "output_type": "stream",
          "name": "stdout",
          "text": [
            "Best accuracy score: 0.870111830828059\n",
            "Best subset (indices): (4, 9, 10, 13, 14)\n",
            "Best subset (corresponding names): ('4', '9', '10', '13', '14')\n"
          ]
        }
      ]
    },
    {
      "cell_type": "code",
      "source": [
        "#Exhaustive elimination\n",
        "from mlxtend.feature_selection import ExhaustiveFeatureSelector\n",
        "efs = ExhaustiveFeatureSelector(RandomForestClassifier(n_jobs=4),\n",
        "                                min_features=1,\n",
        "                                max_features=5,  # limit max features for speed\n",
        "                                scoring='accuracy',\n",
        "                                print_progress=True,\n",
        "                                cv=5)"
      ],
      "metadata": {
        "id": "bleHyVFXD1CE"
      },
      "execution_count": 9,
      "outputs": []
    },
    {
      "cell_type": "code",
      "source": [
        "efs=efs.fit(X_train,y_train)\n",
        "print('Best accuracy score:', efs.best_score_) #  shows the best score\n",
        "print('Best subset (indices):', efs.best_idx_)       # shows the index o\n",
        "print('Best subset (corresponding names):', efs.best_feature_names )"
      ],
      "metadata": {
        "id": "Y9LsZlwPD3x0"
      },
      "execution_count": null,
      "outputs": []
    },
    {
      "cell_type": "code",
      "source": [
        "#Recursive Feature Elimination\n",
        "from sklearn.feature_selection import RFE\n",
        "from sklearn.ensemble import RandomForestClassifier\n",
        "\n",
        "# Initialize model\n",
        "rf_model = RandomForestClassifier(n_jobs=4, random_state=42)\n",
        "# RFE: Select top 5 features\n",
        "rfe = RFE(estimator=rf_model, n_features_to_select=5)\n",
        "# Fit\n",
        "rfe.fit(X_train, y_train)\n"
      ],
      "metadata": {
        "id": "LzeI51DB0pn7"
      },
      "execution_count": null,
      "outputs": []
    },
    {
      "cell_type": "code",
      "source": [
        "#The results are:\n",
        "print(\"RFE Selected feature mask:\", rfe.support_)           # Boolean mask\n",
        "print(\"RFE Feature ranking (1 = most important):\", rfe.ranking_)\n"
      ],
      "metadata": {
        "id": "jBlrL3QygUCJ"
      },
      "execution_count": null,
      "outputs": []
    }
  ]
}