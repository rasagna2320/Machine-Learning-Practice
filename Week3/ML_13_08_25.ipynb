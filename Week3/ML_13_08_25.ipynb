{
  "nbformat": 4,
  "nbformat_minor": 0,
  "metadata": {
    "colab": {
      "provenance": []
    },
    "kernelspec": {
      "name": "python3",
      "display_name": "Python 3"
    },
    "language_info": {
      "name": "python"
    }
  },
  "cells": [
    {
      "cell_type": "markdown",
      "source": [
        "# House price prediction dataset preprocessing"
      ],
      "metadata": {
        "id": "J3oQYayZQxlR"
      }
    },
    {
      "cell_type": "code",
      "execution_count": 2,
      "metadata": {
        "colab": {
          "base_uri": "https://localhost:8080/",
          "height": 0
        },
        "id": "TUaSYyoGaEsb",
        "outputId": "5ec8c3ec-d286-41e0-ad1e-b092de1ee611"
      },
      "outputs": [
        {
          "output_type": "stream",
          "name": "stdout",
          "text": [
            "   Id  MSSubClass MSZoning  LotFrontage  LotArea Street Alley LotShape  \\\n",
            "0   1          60       RL         65.0     8450   Pave   NaN      Reg   \n",
            "1   2          20       RL         80.0     9600   Pave   NaN      Reg   \n",
            "2   3          60       RL         68.0    11250   Pave   NaN      IR1   \n",
            "3   4          70       RL         60.0     9550   Pave   NaN      IR1   \n",
            "4   5          60       RL         84.0    14260   Pave   NaN      IR1   \n",
            "\n",
            "  LandContour Utilities  ... PoolArea PoolQC Fence MiscFeature MiscVal MoSold  \\\n",
            "0         Lvl    AllPub  ...        0    NaN   NaN         NaN       0      2   \n",
            "1         Lvl    AllPub  ...        0    NaN   NaN         NaN       0      5   \n",
            "2         Lvl    AllPub  ...        0    NaN   NaN         NaN       0      9   \n",
            "3         Lvl    AllPub  ...        0    NaN   NaN         NaN       0      2   \n",
            "4         Lvl    AllPub  ...        0    NaN   NaN         NaN       0     12   \n",
            "\n",
            "  YrSold  SaleType  SaleCondition  SalePrice  \n",
            "0   2008        WD         Normal     208500  \n",
            "1   2007        WD         Normal     181500  \n",
            "2   2008        WD         Normal     223500  \n",
            "3   2006        WD        Abnorml     140000  \n",
            "4   2008        WD         Normal     250000  \n",
            "\n",
            "[5 rows x 81 columns]\n"
          ]
        }
      ],
      "source": [
        "import pandas as pd\n",
        "df = pd.read_csv(\"house_price_train.csv\",encoding=\"utf-8\",delimiter=\",\")\n",
        "print(df.head(5))"
      ]
    },
    {
      "cell_type": "markdown",
      "source": [
        "#Data Preprocessing"
      ],
      "metadata": {
        "id": "v6xpesPgd8jW"
      }
    },
    {
      "cell_type": "code",
      "source": [
        "#Handling null values\n",
        "#Can use ffill but may lead to baised prediction of house price\n",
        "#So, let's seperate categorical and numerical columns\n",
        "print(\"Datatypes group by:\")\n",
        "print(df.columns.to_series().groupby(df.dtypes).apply(list))\n",
        "num_fea = df.select_dtypes(include=[\"number\"]).columns.tolist()\n",
        "cat_fea = df.select_dtypes(include=[\"object\",\"category\"]).columns.tolist()\n",
        "df[num_fea]=df[num_fea].fillna(df[num_fea].median())\n",
        "df[cat_fea]=df[cat_fea].fillna(\"Unknown\")"
      ],
      "metadata": {
        "colab": {
          "base_uri": "https://localhost:8080/",
          "height": 0
        },
        "id": "WuDDJw48dsVS",
        "outputId": "cc5af3ad-fc2e-4f87-f5ea-196b2c3df348"
      },
      "execution_count": 3,
      "outputs": [
        {
          "output_type": "stream",
          "name": "stdout",
          "text": [
            "Datatypes group by:\n",
            "int64      [Id, MSSubClass, LotArea, OverallQual, Overall...\n",
            "float64               [LotFrontage, MasVnrArea, GarageYrBlt]\n",
            "object     [MSZoning, Street, Alley, LotShape, LandContou...\n",
            "dtype: object\n"
          ]
        }
      ]
    },
    {
      "cell_type": "code",
      "source": [
        "#Encode categorical features\n",
        "pd.get_dummies(df,columns=cat_fea,drop_first=True)\n",
        "print(df.head(5))"
      ],
      "metadata": {
        "colab": {
          "base_uri": "https://localhost:8080/",
          "height": 0
        },
        "id": "GPZr0F9_d7BM",
        "outputId": "6a7c351c-17b3-4518-a21e-6925c6b79bf4"
      },
      "execution_count": 4,
      "outputs": [
        {
          "output_type": "stream",
          "name": "stdout",
          "text": [
            "   Id  MSSubClass MSZoning  LotFrontage  LotArea Street    Alley LotShape  \\\n",
            "0   1          60       RL         65.0     8450   Pave  Unknown      Reg   \n",
            "1   2          20       RL         80.0     9600   Pave  Unknown      Reg   \n",
            "2   3          60       RL         68.0    11250   Pave  Unknown      IR1   \n",
            "3   4          70       RL         60.0     9550   Pave  Unknown      IR1   \n",
            "4   5          60       RL         84.0    14260   Pave  Unknown      IR1   \n",
            "\n",
            "  LandContour Utilities  ... PoolArea   PoolQC    Fence MiscFeature MiscVal  \\\n",
            "0         Lvl    AllPub  ...        0  Unknown  Unknown     Unknown       0   \n",
            "1         Lvl    AllPub  ...        0  Unknown  Unknown     Unknown       0   \n",
            "2         Lvl    AllPub  ...        0  Unknown  Unknown     Unknown       0   \n",
            "3         Lvl    AllPub  ...        0  Unknown  Unknown     Unknown       0   \n",
            "4         Lvl    AllPub  ...        0  Unknown  Unknown     Unknown       0   \n",
            "\n",
            "  MoSold YrSold  SaleType  SaleCondition  SalePrice  \n",
            "0      2   2008        WD         Normal     208500  \n",
            "1      5   2007        WD         Normal     181500  \n",
            "2      9   2008        WD         Normal     223500  \n",
            "3      2   2006        WD        Abnorml     140000  \n",
            "4     12   2008        WD         Normal     250000  \n",
            "\n",
            "[5 rows x 81 columns]\n"
          ]
        }
      ]
    },
    {
      "cell_type": "code",
      "source": [
        "#Data Splitting\n",
        "from sklearn.model_selection import train_test_split\n",
        "X=df.drop(\"SalePrice\",axis=1)\n",
        "y=df[\"SalePrice\"]\n",
        "X_train,X_test,y_train,y_test=train_test_split(X,y,test_size=0.3,random_state=42)\n",
        "#stratify=y maintains the same class distribution in train and test sets.\n",
        "#random_state=42 The number 42 is just a popular arbitrary choice among programmers"
      ],
      "metadata": {
        "id": "ouA_dFEEBQQ2"
      },
      "execution_count": 5,
      "outputs": []
    },
    {
      "cell_type": "markdown",
      "source": [
        "## Feature Selection"
      ],
      "metadata": {
        "id": "ocvj_RD87wv6"
      }
    },
    {
      "cell_type": "markdown",
      "source": [
        "## Filter Methods for Feature Selection\n",
        "\n",
        "### Basic Filter Methods\n",
        "1. Constant Features Removal  \n",
        "2. Quasi-Constant Features Removal  \n",
        "3. Duplicate Features Removal  \n",
        "\n",
        "### Statistical Filter Methods\n",
        "1. Pearson Correlation  \n",
        "2. Spearman Rank Correlation  \n",
        "3. ANOVA F-test  \n",
        "4. Mutual Information (regression)  \n",
        "5. Chi-square Test  \n",
        "6. Mutual Information (classification)  \n",
        "7. Cramér’s V\n",
        "\n"
      ],
      "metadata": {
        "id": "ZMCeqr4PrDzR"
      }
    },
    {
      "cell_type": "code",
      "source": [
        "# Basic Filter methods\n",
        "# Identify categorical and numerical columns\n",
        "cat_fea = X_train.select_dtypes(include=[\"object\"]).columns.tolist()\n",
        "num_fea = X_train.select_dtypes(include=[\"number\"]).columns.tolist()\n",
        "\n",
        "# 1. Encoding categorical features using get_dummies\n",
        "X_train = pd.get_dummies(X_train, columns=cat_fea, drop_first=True)\n",
        "X_train = X_train.astype(int)  # Optional: converts uint8 to int\n",
        "\n",
        "X_test = pd.get_dummies(X_test, columns=cat_fea, drop_first=True)\n",
        "X_test = X_test.astype(int)  # Optional\n",
        "\n",
        "# Align columns of test set to train set (add missing columns with zeros)\n",
        "for col in X_train.columns:\n",
        "    if col not in X_test.columns:\n",
        "        X_test[col] = 0\n",
        "# Reorder test columns to match train\n",
        "X_test = X_test[X_train.columns]\n",
        "\n",
        "print(df.dtypes)  # Verify all are numeric\n",
        "\n",
        "# 2. Removing constant features\n",
        "const = []\n",
        "for features in X_train:\n",
        "    if X_train[features].std() == 0:\n",
        "        const.append(features)\n",
        "print(\"Number of constant features:\", len(const))\n",
        "X_train.drop(labels=const, axis=1, inplace=True)\n",
        "X_test.drop(labels=const, axis=1, inplace=True)  # Apply same removal to X_test\n",
        "\n",
        "# 3. Removing quasi-constant features\n",
        "quasi_constant = []\n",
        "for feature in X_train.columns:\n",
        "    predominant = (X_train[feature].value_counts() / float(len(X_train))).sort_values(ascending=False).values[0]\n",
        "    if predominant > 0.999:\n",
        "        quasi_constant.append(feature)\n",
        "print(\"Number of quasi constant features:\", len(quasi_constant))\n",
        "X_train.drop(labels=quasi_constant, axis=1, inplace=True)\n",
        "X_test.drop(labels=quasi_constant, axis=1, inplace=True)  # Apply same removal to X_test\n",
        "\n",
        "# 4. Removing duplicated features\n",
        "duplicates = []\n",
        "for i in range(len(X_train.columns)):\n",
        "    col1 = X_train.columns[i]\n",
        "    for col2 in X_train.columns[i+1:]:\n",
        "        if X_train[col1].equals(X_train[col2]):  # Checks content equality\n",
        "            duplicates.append(col2)\n",
        "print(\"Number of duplicate features:\", len(duplicates))\n",
        "X_train.drop(labels=duplicates, axis=1, inplace=True)\n",
        "X_test.drop(labels=duplicates, axis=1, inplace=True, errors='ignore')  # Ignore missing columns to avoid KeyError\n",
        "\n"
      ],
      "metadata": {
        "colab": {
          "base_uri": "https://localhost:8080/",
          "height": 0
        },
        "id": "-eENHQTMrAdn",
        "outputId": "830a06a5-81ee-4130-aa97-65efccfb8506"
      },
      "execution_count": 7,
      "outputs": [
        {
          "output_type": "stream",
          "name": "stdout",
          "text": [
            "Id                 int64\n",
            "MSSubClass         int64\n",
            "MSZoning          object\n",
            "LotFrontage      float64\n",
            "LotArea            int64\n",
            "                  ...   \n",
            "MoSold             int64\n",
            "YrSold             int64\n",
            "SaleType          object\n",
            "SaleCondition     object\n",
            "SalePrice          int64\n",
            "Length: 81, dtype: object\n",
            "Number of constant features: 0\n",
            "Number of quasi constant features: 0\n",
            "Number of duplicate features: 16\n"
          ]
        }
      ]
    },
    {
      "cell_type": "code",
      "source": [
        "# Statistical Filter Methods\n",
        "# Even though we’ve already one-hot encoded everything, statistical filter methods still differ based on original feature type\n",
        "# Target is SalePrice (numerical), and this is a regression problem\n",
        "\n",
        "from sklearn.feature_selection import SelectKBest, f_regression, mutual_info_regression\n",
        "from scipy.stats import pearsonr, spearmanr\n",
        "import pandas as pd\n",
        "import numpy as np\n",
        "\n",
        "# Separate numerical and categorical features based on unique values in X_train\n",
        "num_features = [col for col in X_train.columns if not set(X_train[col].unique()).issubset({0, 1})]\n",
        "cat_features = [col for col in X_train.columns if set(X_train[col].unique()).issubset({0, 1})]\n",
        "\n",
        "# 1. Numerical input and numerical output → Pearson Correlation and Spearman Rank Correlation\n",
        "pearson_corr = []\n",
        "spearman_corr = []\n",
        "\n",
        "for col in num_features:\n",
        "    p_corr, _ = pearsonr(X_train[col], y_train)\n",
        "    s_corr, _ = spearmanr(X_train[col], y_train)\n",
        "    pearson_corr.append((col, p_corr))\n",
        "    spearman_corr.append((col, s_corr))\n",
        "\n",
        "pearson_df = pd.DataFrame(pearson_corr, columns=[\"Feature\", \"PearsonCorr\"]).set_index(\"Feature\")\n",
        "spearman_df = pd.DataFrame(spearman_corr, columns=[\"Feature\", \"SpearmanCorr\"]).set_index(\"Feature\")\n",
        "\n",
        "print(\"Top 10 features by absolute Pearson correlation:\")\n",
        "print(pearson_df[\"PearsonCorr\"].abs().sort_values(ascending=False).head(10))\n",
        "\n",
        "print(\"\\nTop 10 features by absolute Spearman correlation:\")\n",
        "print(spearman_df[\"SpearmanCorr\"].abs().sort_values(ascending=False).head(10))\n",
        "\n",
        "# 2. Numerical input and numerical output → ANOVA F-test (f_regression)\n",
        "f_values, p_values = f_regression(X_train[num_features], y_train)\n",
        "anova_df = pd.DataFrame({\n",
        "    \"Numerical Features\": num_features,\n",
        "    \"F_values\": f_values,\n",
        "    \"P_values\": p_values\n",
        "})\n",
        "anova_df.sort_values(by=\"P_values\", inplace=True)\n",
        "significant_numeric_features = anova_df[anova_df[\"P_values\"] < 0.05][\"Numerical Features\"].tolist()\n",
        "print(\"\\nSignificant numerical features from ANOVA (p<0.05):\")\n",
        "print(significant_numeric_features)\n",
        "\n",
        "# 3. Categorical input and numerical output → Mutual Information\n",
        "# Note: chi2 is not suitable here because it expects positive discrete data and categorical output\n",
        "selector_mi = SelectKBest(score_func=mutual_info_regression, k=\"all\")\n",
        "selector_mi.fit(X_train[cat_features], y_train)\n",
        "mi_scores = selector_mi.scores_\n",
        "\n",
        "mi_df = pd.DataFrame({\n",
        "    \"Categorical Features\": cat_features,\n",
        "    \"Mutual_Info_Scores\": mi_scores\n",
        "})\n",
        "mi_df.sort_values(by=\"Mutual_Info_Scores\", ascending=False, inplace=True)\n",
        "\n",
        "# Select categorical features with MI > 0 (non-zero dependence)\n",
        "significant_cat_features = mi_df[mi_df[\"Mutual_Info_Scores\"] > 0][\"Categorical Features\"].tolist()\n",
        "print(\"\\nSignificant categorical features from Mutual Information (MI > 0):\")\n",
        "print(significant_cat_features)\n",
        "\n",
        "# Final selected features: union of significant numerical and categorical features\n",
        "final_selected_features = list(set(significant_numeric_features + significant_cat_features))\n",
        "\n",
        "# Filter the datasets to keep only selected features\n",
        "X_train_filtered = X_train[final_selected_features]\n",
        "for col in final_selected_features:\n",
        "    if col not in X_test.columns:\n",
        "        X_test[col] = 0\n",
        "X_test_filtered = X_test[final_selected_features]"
      ],
      "metadata": {
        "id": "c2qe66uo_nsJ",
        "colab": {
          "base_uri": "https://localhost:8080/",
          "height": 0
        },
        "outputId": "7df22cd4-3b15-430b-8f24-971bc5f5f0f3"
      },
      "execution_count": 8,
      "outputs": [
        {
          "output_type": "stream",
          "name": "stdout",
          "text": [
            "Top 10 features by absolute Pearson correlation:\n",
            "Feature\n",
            "OverallQual     0.784720\n",
            "GrLivArea       0.689238\n",
            "GarageCars      0.642689\n",
            "GarageArea      0.621937\n",
            "TotalBsmtSF     0.590017\n",
            "1stFlrSF        0.583132\n",
            "FullBath        0.549164\n",
            "TotRmsAbvGrd    0.519634\n",
            "YearBuilt       0.512206\n",
            "YearRemodAdd    0.512190\n",
            "Name: PearsonCorr, dtype: float64\n",
            "\n",
            "Top 10 features by absolute Spearman correlation:\n",
            "Feature\n",
            "OverallQual     0.804608\n",
            "GrLivArea       0.722232\n",
            "GarageCars      0.684316\n",
            "YearBuilt       0.636620\n",
            "GarageArea      0.636605\n",
            "FullBath        0.619064\n",
            "TotalBsmtSF     0.594487\n",
            "YearRemodAdd    0.571357\n",
            "1stFlrSF        0.565796\n",
            "GarageYrBlt     0.549312\n",
            "Name: SpearmanCorr, dtype: float64\n",
            "\n",
            "Significant numerical features from ANOVA (p<0.05):\n",
            "['OverallQual', 'GrLivArea', 'GarageCars', 'GarageArea', 'TotalBsmtSF', '1stFlrSF', 'FullBath', 'TotRmsAbvGrd', 'YearBuilt', 'YearRemodAdd', 'Fireplaces', 'GarageYrBlt', 'MasVnrArea', 'BsmtFinSF1', 'WoodDeckSF', 'LotFrontage', '2ndFlrSF', 'HalfBath', 'OpenPorchSF', 'LotArea', 'BsmtFullBath', 'BsmtUnfSF', 'BedroomAbvGr', 'EnclosedPorch', 'KitchenAbvGr', 'PoolArea', 'ScreenPorch', 'MSSubClass', 'OverallCond']\n",
            "\n",
            "Significant categorical features from Mutual Information (MI > 0):\n",
            "['ExterQual_TA', 'ExterQual_Gd', 'KitchenQual_TA', 'Foundation_PConc', 'BsmtQual_TA', 'FireplaceQu_Unknown', 'KitchenQual_Gd', 'BsmtQual_Gd', 'GarageFinish_Unf', 'GarageType_Detchd', 'GarageCond_TA', 'BsmtFinType1_GLQ', 'Exterior1st_VinylSd', 'Foundation_CBlock', 'GarageType_Attchd', 'Exterior2nd_VinylSd', 'MasVnrType_Unknown', 'GarageFinish_RFn', 'HeatingQC_TA', 'FireplaceQu_TA', 'GarageType_Unknown', 'MSZoning_RM', 'FireplaceQu_Gd', 'SaleCondition_Partial', 'SaleType_New', 'CentralAir_Y', 'LotShape_Reg', 'MasVnrType_Stone', 'Neighborhood_NridgHt', 'Neighborhood_NAmes', 'GarageQual_TA', 'Electrical_SBrkr', 'Neighborhood_NoRidge', 'HouseStyle_2Story', 'MSZoning_RL', 'Neighborhood_CollgCr', 'KitchenQual_Fa', 'PavedDrive_Y', 'MasVnrType_BrkFace', 'SaleType_WD', 'Neighborhood_Somerst', 'HeatingQC_Fa', 'Fence_Unknown', 'Exterior1st_Wd Sdng', 'MSZoning_FV', 'BsmtExposure_Gd', 'Neighborhood_OldTown', 'ExterCond_TA', 'ExterCond_Fa', 'Exterior1st_HdBoard', 'BsmtExposure_No', 'Exterior2nd_Wd Sdng', 'Exterior1st_MetalSd', 'RoofStyle_Hip', 'HouseStyle_1Story', 'Neighborhood_IDOTRR', 'BldgType_Duplex', 'Exterior2nd_HdBoard', 'Neighborhood_Sawyer', 'Neighborhood_BrDale', 'GarageType_BuiltIn', 'HouseStyle_1.5Unf', 'BldgType_Twnhs', 'Neighborhood_Edwards', 'HouseStyle_SLvl', 'LandContour_Lvl', 'Neighborhood_NPkVill', 'Condition1_Feedr', 'HeatingQC_Gd', 'Electrical_FuseF', 'GarageQual_Fa', 'Neighborhood_Gilbert', 'Neighborhood_MeadowV', 'PavedDrive_P', 'BsmtFinType1_BLQ', 'Exterior2nd_CmentBd', 'Functional_Typ', 'HouseStyle_SFoyer', 'LandContour_HLS', 'BsmtQual_Fa', 'Neighborhood_NWAmes', 'Exterior2nd_MetalSd', 'LotConfig_CulDSac', 'Neighborhood_BrkSide', 'BsmtQual_Unknown', 'BsmtFinType2_GLQ', 'BsmtFinType1_LwQ', 'Neighborhood_StoneBr', 'RoofStyle_Gable', 'Fence_MnPrv', 'LotConfig_Inside', 'BsmtCond_TA', 'Condition1_PosA', 'BsmtFinType1_Unf', 'HouseStyle_2.5Fin', 'Exterior1st_CemntBd', 'BsmtFinType2_Unf', 'ExterCond_Gd', 'Alley_Pave', 'Condition1_PosN', 'Exterior1st_WdShing', 'Condition1_RRAe', 'BsmtExposure_Mn', 'RoofMatl_Tar&Grv', 'BsmtFinType2_LwQ', 'GarageCond_Fa', 'BsmtCond_Gd', 'Neighborhood_SWISU', 'Condition2_Feedr', 'LotConfig_FR2', 'Neighborhood_SawyerW', 'SaleCondition_Normal', 'RoofMatl_CompShg', 'Neighborhood_Timber', 'Neighborhood_Mitchel', 'Neighborhood_ClearCr', 'Exterior2nd_Plywood', 'Exterior2nd_Brk Cmn', 'BldgType_TwnhsE', 'Functional_Min1', 'Neighborhood_Crawfor', 'Functional_Maj2', 'SaleType_ConLw', 'Condition1_Norm', 'ExterQual_Fa', 'MiscFeature_Shed', 'GarageCond_Gd', 'BldgType_2fmCon', 'FireplaceQu_Po', 'RoofMatl_WdShake', 'GarageType_CarPort', 'Exterior2nd_ImStucc', 'Foundation_Slab', 'Fence_MnWw', 'Condition1_RRAn', 'Foundation_Stone', 'Exterior2nd_BrkFace', 'Exterior1st_BrkComm', 'BsmtFinType1_Rec', 'Functional_Min2', 'Exterior1st_BrkFace', 'LandSlope_Sev', 'Exterior1st_Stucco', 'FireplaceQu_Fa']\n"
          ]
        }
      ]
    },
    {
      "cell_type": "code",
      "source": [
        "#Dataset after preprocessing and feature selection\n",
        "print(X_train.head(10))"
      ],
      "metadata": {
        "colab": {
          "base_uri": "https://localhost:8080/",
          "height": 0
        },
        "id": "NN_DoviFT5yp",
        "outputId": "f295c9f1-2c10-414a-943c-a24ed5c849ca"
      },
      "execution_count": 9,
      "outputs": [
        {
          "output_type": "stream",
          "name": "stdout",
          "text": [
            "        Id  MSSubClass  LotFrontage  LotArea  OverallQual  OverallCond  \\\n",
            "135    136          20           80    10400            7            6   \n",
            "1452  1453         180           35     3675            5            5   \n",
            "762    763          60           72     8640            7            5   \n",
            "932    933          20           84    11670            9            5   \n",
            "435    436          60           43    10667            7            6   \n",
            "629    630          80           82     9020            6            5   \n",
            "1210  1211          60           70    11218            6            5   \n",
            "1118  1119          80           85    13825            5            6   \n",
            "1084  1085          60           69    13031            6            5   \n",
            "158    159          60          100    12552            7            5   \n",
            "\n",
            "      YearBuilt  YearRemodAdd  MasVnrArea  BsmtFinSF1  ...  SaleType_Con  \\\n",
            "135        1970          1970         288           0  ...             0   \n",
            "1452       2005          2005          80         547  ...             0   \n",
            "762        2009          2009           0          24  ...             1   \n",
            "932        2006          2006         302           0  ...             0   \n",
            "435        1996          1996           0         385  ...             0   \n",
            "629        1964          1964         259         624  ...             0   \n",
            "1210       1992          1992           0           0  ...             0   \n",
            "1118       1958          1987           0           0  ...             0   \n",
            "1084       1995          1996           0         592  ...             0   \n",
            "158        2004          2005           0         222  ...             0   \n",
            "\n",
            "      SaleType_ConLD  SaleType_ConLw  SaleType_New  SaleType_WD  \\\n",
            "135                0               0             0            1   \n",
            "1452               0               0             0            1   \n",
            "762                0               0             0            0   \n",
            "932                0               0             0            1   \n",
            "435                0               1             0            0   \n",
            "629                0               0             0            1   \n",
            "1210               0               0             0            1   \n",
            "1118               0               0             0            1   \n",
            "1084               0               0             0            1   \n",
            "158                0               0             0            1   \n",
            "\n",
            "      SaleCondition_AdjLand  SaleCondition_Alloca  SaleCondition_Family  \\\n",
            "135                       0                     0                     0   \n",
            "1452                      0                     0                     0   \n",
            "762                       0                     0                     0   \n",
            "932                       0                     0                     0   \n",
            "435                       0                     0                     0   \n",
            "629                       0                     0                     0   \n",
            "1210                      0                     0                     0   \n",
            "1118                      0                     0                     0   \n",
            "1084                      0                     0                     0   \n",
            "158                       0                     0                     0   \n",
            "\n",
            "      SaleCondition_Normal  SaleCondition_Partial  \n",
            "135                      1                      0  \n",
            "1452                     1                      0  \n",
            "762                      1                      0  \n",
            "932                      1                      0  \n",
            "435                      1                      0  \n",
            "629                      1                      0  \n",
            "1210                     1                      0  \n",
            "1118                     1                      0  \n",
            "1084                     1                      0  \n",
            "158                      1                      0  \n",
            "\n",
            "[10 rows x 226 columns]\n"
          ]
        }
      ]
    }
  ]
}